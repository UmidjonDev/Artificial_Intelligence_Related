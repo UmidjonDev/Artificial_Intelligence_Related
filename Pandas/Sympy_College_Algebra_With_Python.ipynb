{
  "nbformat": 4,
  "nbformat_minor": 0,
  "metadata": {
    "colab": {
      "provenance": [],
      "include_colab_link": true
    },
    "kernelspec": {
      "name": "python3",
      "display_name": "Python 3"
    },
    "language_info": {
      "name": "python"
    }
  },
  "cells": [
    {
      "cell_type": "markdown",
      "metadata": {
        "id": "view-in-github",
        "colab_type": "text"
      },
      "source": [
        "<a href=\"https://colab.research.google.com/github/UmidjonDev/Artificial_Intelligence_Related/blob/main/Sympy_College_Algebra_With_Python.ipynb\" target=\"_parent\"><img src=\"https://colab.research.google.com/assets/colab-badge.svg\" alt=\"Open In Colab\"/></a>"
      ]
    },
    {
      "cell_type": "markdown",
      "source": [
        "Solving for x. The variable `eq` is the equation set equal to zero. This will print an array of solutions."
      ],
      "metadata": {
        "id": "9IAp4XVs3eNW"
      }
    },
    {
      "cell_type": "code",
      "execution_count": 1,
      "metadata": {
        "id": "x2tNfcmT3T8F",
        "outputId": "1b349ce8-1ec2-4e75-b203-d300f39726d2",
        "colab": {
          "base_uri": "https://localhost:8080/"
        }
      },
      "outputs": [
        {
          "output_type": "stream",
          "name": "stdout",
          "text": [
            "x =  [-1 + sqrt(5), -sqrt(5) - 1]\n"
          ]
        }
      ],
      "source": [
        "#This simple sympy library is created for solving mathematical equations easily. I have learnt it from freecodecamps college python library course\n",
        "import sympy\n",
        "from sympy import symbols\n",
        "from sympy.solvers import solve\n",
        "\n",
        "x = symbols('x')\n",
        "\n",
        "# Put the equation here\n",
        "eq = pow(x, 2)+2*x - 4\n",
        "\n",
        "print(\"x = \", solve(eq,x))"
      ]
    }
  ]
}